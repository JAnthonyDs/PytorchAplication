{
 "cells": [
  {
   "cell_type": "code",
   "execution_count": 2,
   "metadata": {},
   "outputs": [],
   "source": [
    "import torch \n",
    "from PIL import Image\n",
    "from torch import nn, save, load\n",
    "from torch.optim import Adam\n",
    "from torch.utils.data import DataLoader\n",
    "from torchvision import datasets\n",
    "from torchvision.transforms import ToTensor"
   ]
  },
  {
   "cell_type": "code",
   "execution_count": 3,
   "metadata": {},
   "outputs": [],
   "source": [
    "# Get data \n",
    "train = datasets.MNIST(root=\"data\", download=True, train=True, transform=ToTensor())\n",
    "dataset = DataLoader(train, 32)\n",
    "#1,28,28 - classes 0-9"
   ]
  },
  {
   "cell_type": "code",
   "execution_count": 4,
   "metadata": {},
   "outputs": [],
   "source": [
    "class ImageClassifier(nn.Module): \n",
    "    def __init__(self):\n",
    "        super().__init__()\n",
    "        self.model = nn.Sequential(\n",
    "            nn.Conv2d(1, 32, (3,3)), \n",
    "            nn.ReLU(),\n",
    "            nn.Conv2d(32, 64, (3,3)), \n",
    "            nn.ReLU(),\n",
    "            nn.Conv2d(64, 64, (3,3)), \n",
    "            nn.ReLU(),\n",
    "            nn.Flatten(), \n",
    "            nn.Linear(64*(28-6)*(28-6), 10)  \n",
    "        )\n",
    "\n",
    "    def forward(self, x): \n",
    "        return self.model(x)\n"
   ]
  },
  {
   "cell_type": "code",
   "execution_count": 5,
   "metadata": {},
   "outputs": [],
   "source": [
    "# Instance of the neural network, loss, optimizer \n",
    "clf = ImageClassifier().to('cuda')\n",
    "opt = Adam(clf.parameters(), lr=1e-3)\n",
    "loss_fn = nn.CrossEntropyLoss() \n"
   ]
  },
  {
   "cell_type": "code",
   "execution_count": 6,
   "metadata": {},
   "outputs": [
    {
     "name": "stdout",
     "output_type": "stream",
     "text": [
      "True\n"
     ]
    }
   ],
   "source": [
    "import torch\n",
    "print(torch.cuda.is_available())\n"
   ]
  },
  {
   "cell_type": "code",
   "execution_count": 7,
   "metadata": {},
   "outputs": [
    {
     "name": "stdout",
     "output_type": "stream",
     "text": [
      "Epoch:0 loss is 0.007931052707135677\n",
      "Epoch:1 loss is 0.019182005897164345\n",
      "Epoch:2 loss is 0.00023988392786122859\n",
      "Epoch:3 loss is 0.001973577542230487\n",
      "Epoch:4 loss is 0.00019641229300759733\n",
      "Epoch:5 loss is 0.00017109910550061613\n",
      "Epoch:6 loss is 0.00026770198019221425\n",
      "Epoch:7 loss is 8.50780270411633e-06\n",
      "Epoch:8 loss is 1.1548390688176369e-07\n",
      "Epoch:9 loss is 3.688026026793523e-07\n"
     ]
    }
   ],
   "source": [
    "# Training flow \n",
    "if __name__ == \"__main__\": \n",
    "    for epoch in range(10): # train for 10 epochs\n",
    "        for batch in dataset: \n",
    "            X,y = batch \n",
    "            X, y = X.to('cuda'), y.to('cuda') \n",
    "            yhat = clf(X) \n",
    "            loss = loss_fn(yhat, y) \n",
    "\n",
    "            # Apply backprop \n",
    "            opt.zero_grad()\n",
    "            loss.backward() \n",
    "            opt.step() \n",
    "\n",
    "        print(f\"Epoch:{epoch} loss is {loss.item()}\")\n",
    "    \n",
    "   "
   ]
  },
  {
   "cell_type": "code",
   "execution_count": 8,
   "metadata": {},
   "outputs": [
    {
     "name": "stdout",
     "output_type": "stream",
     "text": [
      "tensor(9, device='cuda:0')\n"
     ]
    }
   ],
   "source": [
    "if __name__ == \"__main__\": \n",
    "    with open('model_state.pt', 'wb') as f: \n",
    "        save(clf.state_dict(), f) \n",
    "\n",
    "    with open('model_state.pt', 'rb') as f: \n",
    "        clf.load_state_dict(load(f))  \n",
    "\n",
    "    img = Image.open('img_3.jpg') \n",
    "    img_tensor = ToTensor()(img).unsqueeze(0).to('cuda')\n",
    "\n",
    "    print(torch.argmax(clf(img_tensor)))"
   ]
  }
 ],
 "metadata": {
  "kernelspec": {
   "display_name": "Python 3",
   "language": "python",
   "name": "python3"
  },
  "language_info": {
   "codemirror_mode": {
    "name": "ipython",
    "version": 3
   },
   "file_extension": ".py",
   "mimetype": "text/x-python",
   "name": "python",
   "nbconvert_exporter": "python",
   "pygments_lexer": "ipython3",
   "version": "3.10.12"
  }
 },
 "nbformat": 4,
 "nbformat_minor": 2
}
